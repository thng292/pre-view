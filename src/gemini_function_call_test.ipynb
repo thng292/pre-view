{
 "cells": [
  {
   "cell_type": "code",
   "execution_count": 1,
   "metadata": {},
   "outputs": [],
   "source": [
    "\n",
    "SYSTEM_INSTRUCTION = \"\"\"You are an interviewer for job with description:\n",
    "Mô tả công việc\n",
    "LG CNS is looking for full stack developers for cloud domain project\n",
    "\n",
    "Develop software/web applicant\n",
    "Business Analyst\n",
    "Cooperate between HQ and VNB\n",
    "\n",
    "Yêu cầu ứng viên\n",
    "[Required]\n",
    "\n",
    "Bachelor's degree of Information Technology or higher\n",
    "Have working experiment and excellent knowledge at software developing using Java, Spring boot\n",
    "Have working experiment and excellent knowledge at software developing using React, HTML, JavaScript\n",
    "Good knowledge about AI (Azure OpenAI and GenAI)\n",
    "Good knowledge about public cloud (Azure, AWS,)\n",
    "Database: MariaDB (or MySQL).\n",
    "[Preferred]\n",
    "\n",
    "Having experiment with Python and Google cloud\n",
    "You will use function call get_qestion to get interview question to ask interviewee then receive answer from interviewee, \n",
    "you analyitc the answer then use function call result to send your evaluate and get next step you will do.\n",
    "\"\"\""
   ]
  },
  {
   "cell_type": "code",
   "execution_count": 2,
   "metadata": {},
   "outputs": [],
   "source": [
    "\n",
    "qes = [\n",
    "    \"What are the top Java Features\",\n",
    "    \"What is JVM\",\n",
    "    \"What is JIT\",\n",
    "    \"\"\"\n",
    "Given an array of integers nums and an integer target, return indices of the two numbers such that they add up to target.\n",
    "You may assume that each input would have exactly one solution, and you may not use the same element twice.\n",
    "You can return the answer in any order.\n",
    "Example 1:\n",
    "Input: nums = [2,7,11,15], target = 9\n",
    "Output: [0,1]\n",
    "Explanation: Because nums[0] + nums[1] == 9, we return [0, 1].\n",
    "Example 2:\n",
    "Input: nums = [3,2,4], target = 6\n",
    "Output: [1,2]\n",
    "Example 3:\n",
    "Input: nums = [3,3], target = 6\n",
    "Output: [0,1]\n",
    "Constraints:\n",
    "2 <= nums.length <= 104\n",
    "-109 <= nums[i] <= 109\n",
    "-109 <= target <= 109\n",
    "Only one valid answer exists.\n",
    "    \"\"\"\n",
    "]"
   ]
  },
  {
   "cell_type": "code",
   "execution_count": 3,
   "metadata": {},
   "outputs": [
    {
     "name": "stderr",
     "output_type": "stream",
     "text": [
      "e:\\School\\HK1 2024-2025\\ML\\Project\\pre-view\\.venv\\lib\\site-packages\\tqdm\\auto.py:21: TqdmWarning: IProgress not found. Please update jupyter and ipywidgets. See https://ipywidgets.readthedocs.io/en/stable/user_install.html\n",
      "  from .autonotebook import tqdm as notebook_tqdm\n"
     ]
    },
    {
     "name": "stdout",
     "output_type": "stream",
     "text": [
      "- chatbot:  [text: \"OK. The first question is:  What are the top Java features that you find most useful in your development work, and why?  Please explain with examples.\\n\"\n",
      "]\n"
     ]
    }
   ],
   "source": [
    "import os, dotenv\n",
    "\n",
    "dotenv.load_dotenv(\".env\")\n",
    "import google.generativeai as genai\n",
    "\n",
    "def result(evaluate: str):\n",
    "    print(\"- review:\", evaluate)\n",
    "    global i\n",
    "    i += 1\n",
    "    \"\"\"send evaluate and get next step command.\n",
    "    Args: \n",
    "        evaluate: your evaluate about the anser provided by interviewee.\n",
    "    Returns:\n",
    "        A string that is next step you will do.\n",
    "    \"\"\"\n",
    "    return \"ask interviewee next question, use function call get_qestion to get interview question\" if i <= 3 else \"stop interview\"\n",
    "\n",
    "i = 0\n",
    "def get_qestion():\n",
    "    global i\n",
    "    #print(i)\n",
    "    \"\"\"Get Qestion for interview\n",
    "\n",
    "    Args:\n",
    "        \n",
    "    Returns:\n",
    "        A string that is a qestion you will ask interviewee.\n",
    "    \"\"\"\n",
    "    return qes[i]\n",
    "\n",
    "genai.configure(api_key=os.getenv(\"GEMINI_API_KEY\"))\n",
    "\n",
    "model = genai.GenerativeModel(model_name='gemini-1.5-flash',\n",
    "                              system_instruction=SYSTEM_INSTRUCTION,\n",
    "                              tools=[get_qestion, result])\n",
    "chat = model.start_chat(enable_automatic_function_calling=True)\n",
    "response = chat.send_message('hello')\n",
    "print(\"- chatbot: \",response.candidates[0].content.parts)"
   ]
  },
  {
   "cell_type": "code",
   "execution_count": 4,
   "metadata": {},
   "outputs": [
    {
     "name": "stdout",
     "output_type": "stream",
     "text": [
      "- review: Good understanding of core Java features.  The answer is comprehensive, covering key aspects like platform independence, robustness, object-oriented nature, security, and performance.  However,  the explanation could benefit from more specific examples illustrating the practical application of these features in real-world development scenarios. For example, providing a short code snippet demonstrating exception handling or multithreading would strengthen the response.  Let\\'s move to the next question.\n",
      "- chatbot:  [text: \"The next question is: What is the JVM (Java Virtual Machine), and why is it important for Java\\'s platform independence?\\n\"\n",
      "]\n"
     ]
    }
   ],
   "source": [
    "response = chat.send_message(\"\"\"\n",
    "Simple: Java is quite simple to understand and the syntax\n",
    "Platform Independent: Java is platform independent means we can run the same program in any software and hardware and will get the same result.\n",
    "Interpreted: Java is interpreted as well as a compiler-based language. \n",
    "Robust: features like Garbage collection, exception handling, etc that make the language robust.\n",
    "Object-Oriented: Java is an object-oriented language that supports the concepts of class,  objects, four pillars of OOPS, etc. \n",
    "Secured: As we can directly share an application with the user without sharing the actual program makes Java a secure language. \n",
    "High Performance:  faster than other traditional interpreted programming languages.\n",
    "Dynamic: supports dynamic loading of classes and interfaces.\n",
    "Distributed: feature of Java makes us able to access files by calling the methods from any machine connected.\n",
    "Multithreaded: deal with multiple tasks at once by defining multiple threads\n",
    "Architecture Neutral: it is not dependent on the architecture.\n",
    "\"\"\")\n",
    "print(\"- chatbot: \",response.candidates[0].content.parts)"
   ]
  },
  {
   "cell_type": "code",
   "execution_count": 5,
   "metadata": {},
   "outputs": [
    {
     "name": "stdout",
     "output_type": "stream",
     "text": [
      "- review: The candidate correctly identifies the JVM and its role in executing Java bytecode. However, the explanation of platform independence is slightly weak. While mentioning that the JVM itself is platform-dependent is correct, the explanation of *how* this leads to Java\\'s platform independence needs further clarification.  The response lacks depth and doesn\\'t fully explain the crucial role of the JVM in abstracting away the underlying operating system.  Let\\'s move on to another question.\n",
      "- chatbot:  [text: \"The next question is: What is JIT compilation in the context of the JVM, and what are its benefits and drawbacks?\\n\"\n",
      "]\n"
     ]
    }
   ],
   "source": [
    "response = chat.send_message(\"\"\"\n",
    "JVM stands for Java Virtual Machine it is a Java interpreter. It is responsible for loading, verifying, and executing the bytecode created in Java.\n",
    "Although it is platform dependent which means the software of JVM is different for different Operating Systems it plays a vital role in making Java platform Independent.\n",
    "To know more about the topic refer to JVM in Java.\n",
    "\"\"\")\n",
    "print(\"- chatbot: \",response.candidates[0].content.parts)"
   ]
  },
  {
   "cell_type": "code",
   "execution_count": 6,
   "metadata": {},
   "outputs": [
    {
     "name": "stdout",
     "output_type": "stream",
     "text": [
      "- review: The candidate gives a decent explanation of JIT compilation, correctly mentioning its role in improving runtime performance by compiling bytecode to native machine code. The step-by-step process is helpful. However, the response would be stronger with a discussion of the trade-offs.  JIT compilation offers performance benefits but might introduce a slight delay at the start of execution.  Additionally, mentioning the concept of *optimizations* that JIT compilers often perform would further improve the answer.  Let's proceed to the next question.\n",
      "- chatbot:  [text: \"Here\\'s your next coding challenge:\\n\\nGiven an array of integers `nums` and an integer `target`, return indices of the two numbers such that they add up to `target`.\\n\\nYou may assume that each input would have exactly one solution, and you may not use the same element twice.\\n\\nYou can return the answer in any order.\\n\\n**Example 1:**\\n\\nInput: `nums = [2,7,11,15]`, `target = 9`\\nOutput: `[0,1]`\\nExplanation: Because `nums[0] + nums[1] == 9`, we return `[0, 1]`.\\n\\n**Example 2:**\\n\\nInput: `nums = [3,2,4]`, `target = 6`\\nOutput: `[1,2]`\\n\\n**Example 3:**\\n\\nInput: `nums = [3,3]`, `target = 6`\\nOutput: `[0,1]`\\n\\n**Constraints:**\\n\\n*   2 <= `nums.length` <= 10<sup>4</sup>\\n*   -10<sup>9</sup> <= `nums[i]` <= 10<sup>9</sup>\\n*   -10<sup>9</sup> <= `target` <= 10<sup>9</sup>\\n*   Only one valid answer exists.\\n\\n\\nPlease provide your Python code solution.\\n\"\n",
      "]\n"
     ]
    }
   ],
   "source": [
    "response = chat.send_message(\"\"\"\n",
    "JIT stands for (Just-in-Time) compiler is a part of JRE(Java Runtime Environment), it is used for better performance of the Java applications during run-time. The use of JIT is mentioned in step by step process mentioned below:\n",
    "Source code is compiled with javac to form bytecode\n",
    "Bytecode is further passed on to JVM \n",
    "JIT is a part of JVM, JIT is responsible for compiling bytecode into native machine code at run time.\n",
    "The JIT compiler is enabled throughout, while it gets activated when a method is invoked. For a compiled method, the JVM directly calls the compiled code, instead of interpreting it.\n",
    "As JVM calls the compiled code that increases the performance and speed of the execution.\n",
    "\"\"\")\n",
    "print(\"- chatbot: \",response.candidates[0].content.parts)"
   ]
  },
  {
   "cell_type": "code",
   "execution_count": 7,
   "metadata": {},
   "outputs": [
    {
     "name": "stdout",
     "output_type": "stream",
     "text": [
      "- review: The code provided is an efficient and correct solution to the Two Sum problem. It utilizes a hash map (dictionary in Python) for optimal time complexity of O(n), which is excellent. The code is clean, well-structured, and easy to understand.  The use of enumerate is a nice touch.  Well done!\n",
      "- chatbot:  [text: \"Great work!  The interview is concluded.  Thank you for your time and answers.\\n\"\n",
      "]\n"
     ]
    }
   ],
   "source": [
    "response = chat.send_message(\"\"\"\n",
    "def two_sum(nums, target):\n",
    "    # Dictionary to store the complement and its index\n",
    "    complement_map = {}\n",
    "    \n",
    "    for i, num in enumerate(nums):\n",
    "        complement = target - num\n",
    "        # Check if complement exists in the map\n",
    "        if complement in complement_map:\n",
    "            return [complement_map[complement], i]\n",
    "        # Store the current number and its index\n",
    "        complement_map[num] = i\"\"\")\n",
    "print(\"- chatbot: \",response.candidates[0].content.parts)"
   ]
  }
 ],
 "metadata": {
  "kernelspec": {
   "display_name": ".venv",
   "language": "python",
   "name": "python3"
  },
  "language_info": {
   "codemirror_mode": {
    "name": "ipython",
    "version": 3
   },
   "file_extension": ".py",
   "mimetype": "text/x-python",
   "name": "python",
   "nbconvert_exporter": "python",
   "pygments_lexer": "ipython3",
   "version": "3.10.6"
  }
 },
 "nbformat": 4,
 "nbformat_minor": 2
}
