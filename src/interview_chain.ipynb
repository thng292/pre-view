{
 "cells": [
  {
   "cell_type": "code",
   "execution_count": 4,
   "metadata": {},
   "outputs": [
    {
     "name": "stderr",
     "output_type": "stream",
     "text": [
      "/media/gamedisk/BaiTap/Code/Nam3/Ki1/AI/re-view/.venv/lib64/python3.10/site-packages/tqdm/auto.py:21: TqdmWarning: IProgress not found. Please update jupyter and ipywidgets. See https://ipywidgets.readthedocs.io/en/stable/user_install.html\n",
      "  from .autonotebook import tqdm as notebook_tqdm\n"
     ]
    }
   ],
   "source": [
    "import dotenv, os\n",
    "dotenv.load_dotenv(\"../.env\")\n",
    "import google.generativeai as genai\n",
    "genai.configure(api_key=os.environ[\"GEMINI_API_KEY\"])"
   ]
  },
  {
   "cell_type": "code",
   "execution_count": 5,
   "metadata": {},
   "outputs": [],
   "source": [
    "from pydantic import BaseModel, Field\n",
    "from enum import Enum"
   ]
  },
  {
   "cell_type": "code",
   "execution_count": 6,
   "metadata": {},
   "outputs": [],
   "source": [
    "SYSTEM_PROMPT_BASE = \"\"\"Your name is Hải, your gender is male. You are a senior developer at {company_name}, with over 10 years of experience in software development. You are known for your expertise in {technology_and_domain} and your ability to lead projects successfully. Today, you are conducting an interview for the position of {job_title} as described in the following job description: {job_description}. Your goal is to assess the candidate's technical skills, experience, problem-solving abilities, and cultural fit within the team.\n",
    "\n",
    "For this interview, please cover the following areas:\n",
    "1. Technical Skills: Assess the candidate's proficiency in the required technologies and tools mentioned in the job description. Ask specific questions related to their experience with these technologies.\n",
    "2. Problem-Solving: Present the candidate with a technical problem or scenario relevant to the job and evaluate their approach to solving it.\n",
    "3. Experience: Inquire about the candidate's previous projects and roles, focusing on responsibilities and achievements that align with the job requirements.\n",
    "4. Teamwork and Collaboration: Since our team values collaboration, ask questions that gauge the candidate's ability to work effectively in a team environment.\n",
    "5. Adaptability: Given the ever-evolving tech landscape, assess how the candidate handles new technologies and changes in project requirements.\n",
    "\n",
    "Approach the interview with empathy and professionalism. Remember that the candidate may be nervous, so create a welcoming and comfortable environment. Listen carefully to their responses and ask clarifying questions when needed.\n",
    "\n",
    "Ensure that all questions are relevant to the job description and are asked in a neutral manner. Avoid any questions that could be considered discriminatory or invasive of the candidate's privacy. Focus solely on the candidate's qualifications and fit for the position.\n",
    "\n",
    "At the end of the interview, summarize the main points discussed. Thank the candidate for their time and interest in the position.\"\"\""
   ]
  },
  {
   "cell_type": "code",
   "execution_count": 7,
   "metadata": {},
   "outputs": [],
   "source": [
    "EXTRACT_JD_SYSTEM_PROMPT = \"\"\"You are a senior developer with extensive experience in the IT industry. Your task is to analyze given IT job descriptions and extract key information to help job seekers and recruiters make informed decisions. Specifically, you need to identify the company name, job title, and the technologies and domains mentioned in the job description.\n",
    "\n",
    "Your output should be in JSON format, containing the following fields:\n",
    "- `companyName`: The name of the company as stated in the job description. This should be a string, or null if the company name is not provided.\n",
    "- `jobTitle`: The title of the job being described. This should be a string, or null if not specified.\n",
    "- `domain`: An array of strings, each representing a domain area mentioned in the job description.\n",
    "\n",
    "As a senior developer, you should be adept at interpreting job descriptions, understanding technical requirements, and identifying relevant\"\"\"\n",
    "\n",
    "\n",
    "class JD_Extracted(BaseModel):\n",
    "    companyName: str | None\n",
    "    jobTitle: str | None\n",
    "    domain: list[str]\n",
    "\n",
    "\n",
    "def extractJD(jd: str) -> JD_Extracted:\n",
    "    if not hasattr(extractJD, \"model\"):\n",
    "        extractJD.model = genai.GenerativeModel(system_instruction=EXTRACT_JD_SYSTEM_PROMPT)\n",
    "\n",
    "    return JD_Extracted.model_validate_json(\n",
    "        extractJD.model.generate_content(\n",
    "            jd,\n",
    "            generation_config={\n",
    "                \"response_mime_type\": \"application/json\",\n",
    "            },\n",
    "        ).text\n",
    "    )\n",
    "\n"
   ]
  },
  {
   "cell_type": "code",
   "execution_count": 8,
   "metadata": {},
   "outputs": [
    {
     "data": {
      "text/plain": [
       "\"Mô tả công việc\\nLG CNS is looking for full stack developers for cloud domain project\\n\\nDevelop software/web applicant\\nBusiness Analyst\\nCooperate between HQ and VNB\\n\\nYêu cầu ứng viên\\n[Required]\\n\\nBachelor's degree of Information Technology or higher\\nHave working experiment and excellent knowledge at software developing using Java, Spring boot\\nHave working experiment and excellent knowledge at software developing using React, HTML, JavaScript\\nGood knowledge about AI (Azure OpenAI and GenAI)\\nGood knowledge about public cloud (Azure, AWS,)\\nDatabase: MariaDB (or MySQL).\\n[Preferred]\\n\\nHaving experiment with Python and Google cloud\""
      ]
     },
     "execution_count": 8,
     "metadata": {},
     "output_type": "execute_result"
    }
   ],
   "source": [
    "JOB_DESCRIPTION = \"\"\"Mô tả công việc\n",
    "LG CNS is looking for full stack developers for cloud domain project\n",
    "\n",
    "Develop software/web applicant\n",
    "Business Analyst\n",
    "Cooperate between HQ and VNB\n",
    "\n",
    "Yêu cầu ứng viên\n",
    "[Required]\n",
    "\n",
    "Bachelor's degree of Information Technology or higher\n",
    "Have working experiment and excellent knowledge at software developing using Java, Spring boot\n",
    "Have working experiment and excellent knowledge at software developing using React, HTML, JavaScript\n",
    "Good knowledge about AI (Azure OpenAI and GenAI)\n",
    "Good knowledge about public cloud (Azure, AWS,)\n",
    "Database: MariaDB (or MySQL).\n",
    "[Preferred]\n",
    "\n",
    "Having experiment with Python and Google cloud\"\"\"\n",
    "\n",
    "# extractJD(JOB_DESCRIPTION)\n",
    "JOB_DESCRIPTION"
   ]
  },
  {
   "cell_type": "code",
   "execution_count": null,
   "metadata": {},
   "outputs": [],
   "source": [
    "class NextAction(str, Enum):\n",
    "    continueOnSameTopic = \"Continue on the same topic\"\n",
    "    changeTopic = \"Switch to a new topic\"\n",
    "    startCodingInterview = \"Switch to coding interview\"\n",
    "\n",
    "\n",
    "class AnalysisAndNextActionOutput(BaseModel):\n",
    "    analysis: str\n",
    "    score: float = Field(ge=0, le=10)\n",
    "    nextAction: NextAction\n",
    "\n",
    "\n",
    "class AnalysisAndNextActionInput(BaseModel):\n",
    "    job_description: str\n",
    "    conversation: list[dict[str, str]]\n",
    "\n",
    "\n",
    "ANALYSIS_AND_NEXT_ACTION_SYSTEM_PROMPT = \"\"\"You are a highly experienced senior developer participating in technical interviews. Your goal is to assist the human interviewer in evaluating candidates. You will be provided with the job description for the role and the ongoing conversation between the interviewer and the candidate. After each candidate response, you need to analyze the answer, provide a score reflecting your assessment, and suggest the next action for the human interviewer. Your analysis should consider the key areas of the interview: Technical Skills, Problem-Solving, Experience, Teamwork and Collaboration, and Adaptability, as defined in the job description. Be objective and justify your score and next action recommendation based on the provided information. Focus on the relevance of the candidate's answer to the job requirements and the overall quality of their response. If the candidate is asked a direct technical question, assess their technical accuracy and depth of understanding. For problem-solving scenarios, analyze their approach, clarity of thought, and consideration of edge cases. When discussing experience, evaluate the alignment of their past roles and responsibilities with the job requirements and their ability to articulate their contributions and learnings. For teamwork questions, assess their understanding of collaborative principles and their ability to work effectively in a team. For adaptability, consider their openness to learning new technologies and their experience with handling change. Remember that your primary responsibility is to provide insightful and actionable feedback to aid the interview process. Do not engage in conversation with the candidate; your output is solely for the human interviewer's benefit.\n",
    "\n",
    "Input format: \n",
    "{\n",
    "    \"job_description\": \"{{job_description_text}}\",\n",
    "    \"conversation\": [\n",
    "        {\"interviewer\": \"{{interviewer_question}}\"},\n",
    "        {\"candidate\": \"{{candidate_answer}}\"}\n",
    "        // ... more turns of conversation\n",
    "    ]\n",
    "}\n",
    "Output format: \n",
    "{\n",
    "    \"analysis\": \"Detailed analysis of the candidate's answer, referencing the evaluation areas.\",\n",
    "    \"score\": \"A float between 0.0 and 10.0, where 0.0 is completely inadequate and 10.0 is exceptional.\",\n",
    "    \"nextAction\": \"One of: 'Continue on the same topic', 'Switch to a new topic', 'Switch to coding interview'\"\n",
    "}\n",
    "Analysis Guidelines:\n",
    "1. Analyze the candidate's response in the context of the job description.\n",
    "2. Justify your score by highlighting specific strengths and weaknesses in the candidate's answer.\n",
    "3. Recommend the next action based on the information gained from the candidate's response and the overall interview plan.\n",
    "4. If the candidate's answer is incomplete or unclear, suggest continuing on the same topic to probe further.\n",
    "5. If the candidate has adequately addressed the current topic, suggest switching to a new topic to cover other evaluation areas.\n",
    "6. If the candidate has demonstrated sufficient technical aptitude and problem-solving skills, suggest switching to a coding interview to assess their practical coding abilities.\n",
    "\n",
    "Additional Note:\n",
    "1. Consider the flow of the conversation and the conversation length when suggesting the next action.\n",
    "2. Be mindful of the seniority level of the role when evaluating the candidate's responses.\n",
    "3. Ensure your analysis and recommendations are objective and free from personal biases.\"\"\"\n",
    "\n",
    "\n",
    "def getAnalysisAndNextAction(jd: str, history: list[str]):\n",
    "    if not hasattr(getAnalysisAndNextAction, \"model\"):\n",
    "        getAnalysisAndNextAction.model = genai.GenerativeModel(\n",
    "            system_instruction=ANALYSIS_AND_NEXT_ACTION_SYSTEM_PROMPT\n",
    "        )\n",
    "    conv = [\n",
    "        {(\"candidate\" if i % 2 else \"interviewer\"): history[i]}\n",
    "        for i in range(len(history))\n",
    "    ]\n",
    "    return AnalysisAndNextActionOutput.model_validate_json(\n",
    "        getAnalysisAndNextAction.model.generate_content(\n",
    "            AnalysisAndNextActionInput(\n",
    "                job_description=jd, conversation=conv\n",
    "            ).model_dump_json(),\n",
    "            generation_config={\"response_mime_type\": \"application/json\"},\n",
    "        ).text\n",
    "    )"
   ]
  },
  {
   "cell_type": "code",
   "execution_count": 10,
   "metadata": {},
   "outputs": [
    {
     "data": {
      "text/plain": [
       "AnalysisAndNextActionOutput(analysis='slfkdjsaf', score=9.5, nextAction=<NextAction.continueOnSameTopic: 'Continue on the same topic'>)"
      ]
     },
     "execution_count": 10,
     "metadata": {},
     "output_type": "execute_result"
    }
   ],
   "source": [
    "AnalysisAndNextActionOutput.model_validate_json('{\"analysis\": \"slfkdjsaf\", \"score\": 9.5, \"nextAction\": \"Continue on the same topic\"}')"
   ]
  },
  {
   "cell_type": "code",
   "execution_count": 11,
   "metadata": {},
   "outputs": [
    {
     "ename": "ValidationError",
     "evalue": "1 validation error for AnalysisAndNextActionOutput\n  JSON input should be string, bytes or bytearray [type=json_type, input_value=response:\nGenerateContent...: 1246\n      }\n    }),\n), input_type=GenerateContentResponse]\n    For further information visit https://errors.pydantic.dev/2.9/v/json_type",
     "output_type": "error",
     "traceback": [
      "\u001b[0;31m---------------------------------------------------------------------------\u001b[0m",
      "\u001b[0;31mValidationError\u001b[0m                           Traceback (most recent call last)",
      "Cell \u001b[0;32mIn[11], line 1\u001b[0m\n\u001b[0;32m----> 1\u001b[0m \u001b[43mgetAnalysisAndNextAction\u001b[49m\u001b[43m(\u001b[49m\n\u001b[1;32m      2\u001b[0m \u001b[43m    \u001b[49m\u001b[43mjd\u001b[49m\u001b[38;5;241;43m=\u001b[39;49m\u001b[43mJOB_DESCRIPTION\u001b[49m\u001b[43m,\u001b[49m\n\u001b[1;32m      3\u001b[0m \u001b[43m    \u001b[49m\u001b[43mhistory\u001b[49m\u001b[38;5;241;43m=\u001b[39;49m\u001b[43m[\u001b[49m\n\u001b[1;32m      4\u001b[0m \u001b[43m        \u001b[49m\u001b[38;5;124;43m\"\u001b[39;49m\u001b[38;5;124;43mTrong mô tả công việc, chúng tôi có đề cập đến việc sử dụng Java, Spring Boot, React, HTML, và JavaScript. Bạn có thể chia sẻ kinh nghiệm của mình với các công nghệ này được không? Cụ thể, bạn đã sử dụng chúng trong những dự án nào và vai trò của bạn trong các dự án đó là gì?\u001b[39;49m\u001b[38;5;124;43m\"\u001b[39;49m\u001b[43m,\u001b[49m\n\u001b[1;32m      5\u001b[0m \u001b[43m        \u001b[49m\u001b[38;5;124;43m\"\u001b[39;49m\u001b[38;5;124;43mTôi đã có nhiều kinh nghiệm với Java và Spring Boot trong các dự án backend. Với Java, tôi đã phát triển các ứng dụng doanh nghiệp, đặc biệt là các hệ thống quản lý tài chính và thương mại điện tử. Spring Boot là công cụ chính tôi sử dụng để tạo các ứng dụng web dựa trên kiến trúc Microservices. Trong các dự án này, tôi đã thiết kế và triển khai các API RESTful, sử dụng Spring Security để bảo mật, Spring Data JPA để tương tác với cơ sở dữ liệu, và Spring Cloud để triển khai các dịch vụ phân tán. Một trong những dự án đáng chú ý là phát triển một hệ thống quản lý bán hàng với các tính năng như quản lý sản phẩm, đơn hàng và thanh toán trực tuyến. Trong các dự án sử dụng Spring Boot, tôi đảm nhận vai trò Backend Developer, nơi tôi thiết kế các API, xử lý logic nghiệp vụ và tối ưu hiệu suất của hệ thống.\u001b[39;49m\u001b[38;5;124;43m\"\u001b[39;49m\u001b[43m,\u001b[49m\n\u001b[1;32m      6\u001b[0m \u001b[43m    \u001b[49m\u001b[43m]\u001b[49m\u001b[43m,\u001b[49m\n\u001b[1;32m      7\u001b[0m \u001b[43m)\u001b[49m\n",
      "Cell \u001b[0;32mIn[9], line 58\u001b[0m, in \u001b[0;36mgetAnalysisAndNextAction\u001b[0;34m(jd, history)\u001b[0m\n\u001b[1;32m     51\u001b[0m     getAnalysisAndNextAction\u001b[38;5;241m.\u001b[39mmodel \u001b[38;5;241m=\u001b[39m genai\u001b[38;5;241m.\u001b[39mGenerativeModel(\n\u001b[1;32m     52\u001b[0m         system_instruction\u001b[38;5;241m=\u001b[39mANALYSIS_AND_NEXT_ACTION_SYSTEM_PROMPT\n\u001b[1;32m     53\u001b[0m     )\n\u001b[1;32m     54\u001b[0m conv \u001b[38;5;241m=\u001b[39m [\n\u001b[1;32m     55\u001b[0m     {(\u001b[38;5;124m\"\u001b[39m\u001b[38;5;124mcandidate\u001b[39m\u001b[38;5;124m\"\u001b[39m \u001b[38;5;28;01mif\u001b[39;00m i \u001b[38;5;241m%\u001b[39m \u001b[38;5;241m2\u001b[39m \u001b[38;5;28;01melse\u001b[39;00m \u001b[38;5;124m\"\u001b[39m\u001b[38;5;124minterviewer\u001b[39m\u001b[38;5;124m\"\u001b[39m): history[i]}\n\u001b[1;32m     56\u001b[0m     \u001b[38;5;28;01mfor\u001b[39;00m i \u001b[38;5;129;01min\u001b[39;00m \u001b[38;5;28mrange\u001b[39m(\u001b[38;5;28mlen\u001b[39m(history))\n\u001b[1;32m     57\u001b[0m ]\n\u001b[0;32m---> 58\u001b[0m \u001b[38;5;28;01mreturn\u001b[39;00m \u001b[43mAnalysisAndNextActionOutput\u001b[49m\u001b[38;5;241;43m.\u001b[39;49m\u001b[43mmodel_validate_json\u001b[49m\u001b[43m(\u001b[49m\n\u001b[1;32m     59\u001b[0m \u001b[43m    \u001b[49m\u001b[43mgetAnalysisAndNextAction\u001b[49m\u001b[38;5;241;43m.\u001b[39;49m\u001b[43mmodel\u001b[49m\u001b[38;5;241;43m.\u001b[39;49m\u001b[43mgenerate_content\u001b[49m\u001b[43m(\u001b[49m\n\u001b[1;32m     60\u001b[0m \u001b[43m        \u001b[49m\u001b[43mAnalysisAndNextActionInput\u001b[49m\u001b[43m(\u001b[49m\n\u001b[1;32m     61\u001b[0m \u001b[43m            \u001b[49m\u001b[43mjob_description\u001b[49m\u001b[38;5;241;43m=\u001b[39;49m\u001b[43mjd\u001b[49m\u001b[43m,\u001b[49m\u001b[43m \u001b[49m\u001b[43mconversation\u001b[49m\u001b[38;5;241;43m=\u001b[39;49m\u001b[43mconv\u001b[49m\n\u001b[1;32m     62\u001b[0m \u001b[43m        \u001b[49m\u001b[43m)\u001b[49m\u001b[38;5;241;43m.\u001b[39;49m\u001b[43mmodel_dump_json\u001b[49m\u001b[43m(\u001b[49m\u001b[43m)\u001b[49m\u001b[43m,\u001b[49m\n\u001b[1;32m     63\u001b[0m \u001b[43m        \u001b[49m\u001b[43mgeneration_config\u001b[49m\u001b[38;5;241;43m=\u001b[39;49m\u001b[43m{\u001b[49m\u001b[38;5;124;43m\"\u001b[39;49m\u001b[38;5;124;43mresponse_mime_type\u001b[39;49m\u001b[38;5;124;43m\"\u001b[39;49m\u001b[43m:\u001b[49m\u001b[43m \u001b[49m\u001b[38;5;124;43m\"\u001b[39;49m\u001b[38;5;124;43mapplication/json\u001b[39;49m\u001b[38;5;124;43m\"\u001b[39;49m\u001b[43m}\u001b[49m\u001b[43m,\u001b[49m\n\u001b[1;32m     64\u001b[0m \u001b[43m    \u001b[49m\u001b[43m)\u001b[49m\n\u001b[1;32m     65\u001b[0m \u001b[43m\u001b[49m\u001b[43m)\u001b[49m\n",
      "File \u001b[0;32m/media/gamedisk/BaiTap/Code/Nam3/Ki1/AI/re-view/.venv/lib64/python3.10/site-packages/pydantic/main.py:625\u001b[0m, in \u001b[0;36mBaseModel.model_validate_json\u001b[0;34m(cls, json_data, strict, context)\u001b[0m\n\u001b[1;32m    623\u001b[0m \u001b[38;5;66;03m# `__tracebackhide__` tells pytest and some other tools to omit this function from tracebacks\u001b[39;00m\n\u001b[1;32m    624\u001b[0m __tracebackhide__ \u001b[38;5;241m=\u001b[39m \u001b[38;5;28;01mTrue\u001b[39;00m\n\u001b[0;32m--> 625\u001b[0m \u001b[38;5;28;01mreturn\u001b[39;00m \u001b[38;5;28;43mcls\u001b[39;49m\u001b[38;5;241;43m.\u001b[39;49m\u001b[43m__pydantic_validator__\u001b[49m\u001b[38;5;241;43m.\u001b[39;49m\u001b[43mvalidate_json\u001b[49m\u001b[43m(\u001b[49m\u001b[43mjson_data\u001b[49m\u001b[43m,\u001b[49m\u001b[43m \u001b[49m\u001b[43mstrict\u001b[49m\u001b[38;5;241;43m=\u001b[39;49m\u001b[43mstrict\u001b[49m\u001b[43m,\u001b[49m\u001b[43m \u001b[49m\u001b[43mcontext\u001b[49m\u001b[38;5;241;43m=\u001b[39;49m\u001b[43mcontext\u001b[49m\u001b[43m)\u001b[49m\n",
      "\u001b[0;31mValidationError\u001b[0m: 1 validation error for AnalysisAndNextActionOutput\n  JSON input should be string, bytes or bytearray [type=json_type, input_value=response:\nGenerateContent...: 1246\n      }\n    }),\n), input_type=GenerateContentResponse]\n    For further information visit https://errors.pydantic.dev/2.9/v/json_type"
     ]
    }
   ],
   "source": [
    "getAnalysisAndNextAction(\n",
    "    jd=JOB_DESCRIPTION,\n",
    "    history=[\n",
    "        \"Trong mô tả công việc, chúng tôi có đề cập đến việc sử dụng Java, Spring Boot, React, HTML, và JavaScript. Bạn có thể chia sẻ kinh nghiệm của mình với các công nghệ này được không? Cụ thể, bạn đã sử dụng chúng trong những dự án nào và vai trò của bạn trong các dự án đó là gì?\",\n",
    "        \"Tôi đã có nhiều kinh nghiệm với Java và Spring Boot trong các dự án backend. Với Java, tôi đã phát triển các ứng dụng doanh nghiệp, đặc biệt là các hệ thống quản lý tài chính và thương mại điện tử. Spring Boot là công cụ chính tôi sử dụng để tạo các ứng dụng web dựa trên kiến trúc Microservices. Trong các dự án này, tôi đã thiết kế và triển khai các API RESTful, sử dụng Spring Security để bảo mật, Spring Data JPA để tương tác với cơ sở dữ liệu, và Spring Cloud để triển khai các dịch vụ phân tán. Một trong những dự án đáng chú ý là phát triển một hệ thống quản lý bán hàng với các tính năng như quản lý sản phẩm, đơn hàng và thanh toán trực tuyến. Trong các dự án sử dụng Spring Boot, tôi đảm nhận vai trò Backend Developer, nơi tôi thiết kế các API, xử lý logic nghiệp vụ và tối ưu hiệu suất của hệ thống.\",\n",
    "    ],\n",
    ")"
   ]
  }
 ],
 "metadata": {
  "kernelspec": {
   "display_name": ".venv",
   "language": "python",
   "name": "python3"
  },
  "language_info": {
   "codemirror_mode": {
    "name": "ipython",
    "version": 3
   },
   "file_extension": ".py",
   "mimetype": "text/x-python",
   "name": "python",
   "nbconvert_exporter": "python",
   "pygments_lexer": "ipython3",
   "version": "3.10.16"
  }
 },
 "nbformat": 4,
 "nbformat_minor": 2
}
