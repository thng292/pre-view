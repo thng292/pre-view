{
 "cells": [
  {
   "cell_type": "code",
   "execution_count": 35,
   "metadata": {},
   "outputs": [
    {
     "name": "stderr",
     "output_type": "stream",
     "text": [
      "/media/gamedisk/BaiTap/Code/Nam3/Ki1/AI/re-view/.venv/lib64/python3.10/site-packages/tqdm/auto.py:21: TqdmWarning: IProgress not found. Please update jupyter and ipywidgets. See https://ipywidgets.readthedocs.io/en/stable/user_install.html\n",
      "  from .autonotebook import tqdm as notebook_tqdm\n"
     ]
    }
   ],
   "source": [
    "import dotenv, os\n",
    "dotenv.load_dotenv(\"../.env\")\n",
    "import google.generativeai as genai\n",
    "genai.configure(api_key=os.environ[\"GEMINI_API_KEY\"])"
   ]
  },
  {
   "cell_type": "code",
   "execution_count": 36,
   "metadata": {},
   "outputs": [],
   "source": [
    "from pydantic import BaseModel, Field\n",
    "from enum import Enum"
   ]
  },
  {
   "cell_type": "code",
   "execution_count": 35,
   "metadata": {},
   "outputs": [],
   "source": [
    "import logging, json\n",
    "\n",
    "class JsonFormatter(logging.Formatter):\n",
    "    def format(self, record):\n",
    "        log_record = {\n",
    "            'timestamp': self.formatTime(record, self.datefmt),\n",
    "            'level': record.levelname,\n",
    "            'message': record.getMessage(),\n",
    "            'module': record.module,\n",
    "            'function': record.funcName,\n",
    "            'line': record.lineno,\n",
    "        }\n",
    "        return json.dumps(log_record, ensure_ascii=False)\n",
    "\n",
    "# Create a logger\n",
    "prompt_logger = logging.getLogger('prompt_logging')\n",
    "prompt_logger.setLevel(logging.DEBUG)\n",
    "\n",
    "os.makedirs(\"log\", exist_ok=True)\n",
    "# Create a file handler and set level to DEBUG\n",
    "handler = logging.FileHandler('log/prompt.jsonl')\n",
    "handler.setLevel(logging.DEBUG)\n",
    "\n",
    "# Create a formatter and set it to the handler\n",
    "formatter = JsonFormatter()\n",
    "handler.setFormatter(formatter)\n",
    "\n",
    "# Add the handler to the logger\n",
    "prompt_logger.addHandler(handler)"
   ]
  },
  {
   "cell_type": "code",
   "execution_count": 36,
   "metadata": {},
   "outputs": [],
   "source": [
    "SYSTEM_PROMPT_BASE = \"\"\"Your name is Hải, your gender is male. You are a senior developer at {company_name}, with over 10 years of experience in software development. You are known for your expertise in {technology_and_domain} and your ability to lead projects successfully. Today, you are conducting an interview for the position of {job_title} as described in the following job description: {job_description}. Your goal is to assess the candidate's technical skills, experience, problem-solving abilities, and cultural fit within the team.\n",
    "\n",
    "For this interview, please cover the following areas:\n",
    "1. Technical Skills: Assess the candidate's proficiency in the required technologies and tools mentioned in the job description. Ask specific questions related to their experience with these technologies.\n",
    "2. Problem-Solving: Present the candidate with a technical problem or scenario relevant to the job and evaluate their approach to solving it.\n",
    "3. Experience: Inquire about the candidate's previous projects and roles, focusing on responsibilities and achievements that align with the job requirements.\n",
    "4. Teamwork and Collaboration: Since our team values collaboration, ask questions that gauge the candidate's ability to work effectively in a team environment.\n",
    "5. Adaptability: Given the ever-evolving tech landscape, assess how the candidate handles new technologies and changes in project requirements.\n",
    "\n",
    "Approach the interview with empathy and professionalism. Remember that the candidate may be nervous, so create a welcoming and comfortable environment. Listen carefully to their responses and ask clarifying questions when needed.\n",
    "\n",
    "Ensure that all questions are relevant to the job description and are asked in a neutral manner. Avoid any questions that could be considered discriminatory or invasive of the candidate's privacy. Focus solely on the candidate's qualifications and fit for the position.\n",
    "\n",
    "At the end of the interview, summarize the main points discussed. Thank the candidate for their time and interest in the position.\n",
    "\n",
    "Before asking a question related to the , you must seek guidance from a human using getGuidance function\"\"\""
   ]
  },
  {
   "cell_type": "code",
   "execution_count": 37,
   "metadata": {},
   "outputs": [],
   "source": [
    "EXTRACT_JD_SYSTEM_PROMPT = \"\"\"You are a senior developer with extensive experience in the IT industry. Your task is to analyze given IT job descriptions and extract key information to help job seekers and recruiters make informed decisions. Specifically, you need to identify the company name, job title, and the technologies and domains mentioned in the job description.\n",
    "\n",
    "Your output should be in JSON format, containing the following fields:\n",
    "- `companyName`: The name of the company as stated in the job description. This should be a string, or null if the company name is not provided.\n",
    "- `jobTitle`: The title of the job being described. This should be a string, or null if not specified.\n",
    "- `domain`: An array of strings, each representing a domain area mentioned in the job description.\n",
    "\n",
    "As a senior developer, you should be adept at interpreting job descriptions, understanding technical requirements, and identifying relevant\"\"\"\n",
    "\n",
    "\n",
    "class JD_Extracted(BaseModel):\n",
    "    companyName: str | None\n",
    "    jobTitle: str | None\n",
    "    domain: list[str]\n",
    "\n",
    "\n",
    "def extractJD(jd: str) -> JD_Extracted:\n",
    "    if not hasattr(extractJD, \"model\") or extractJD.model is None:\n",
    "        extractJD.model = genai.GenerativeModel(\n",
    "            system_instruction=EXTRACT_JD_SYSTEM_PROMPT\n",
    "        )\n",
    "    model_input = jd\n",
    "    model_output = extractJD.model.generate_content(\n",
    "        model_input,\n",
    "        generation_config={\n",
    "            \"response_mime_type\": \"application/json\",\n",
    "            \"temperature\": 0.5,\n",
    "        },\n",
    "    ).text\n",
    "    prompt_logger.debug({\"input\": model_input, \"output\": model_output})\n",
    "    return JD_Extracted.model_validate_json(model_output)\n",
    "\n",
    "\n",
    "extractJD.model = None"
   ]
  },
  {
   "cell_type": "code",
   "execution_count": 38,
   "metadata": {},
   "outputs": [
    {
     "data": {
      "text/plain": [
       "\"Mô tả công việc\\nLG CNS is looking for full stack developers for cloud domain project\\n\\nDevelop software/web applicant\\nBusiness Analyst\\nCooperate between HQ and VNB\\n\\nYêu cầu ứng viên\\n[Required]\\n\\nBachelor's degree of Information Technology or higher\\nHave working experiment and excellent knowledge at software developing using Java, Spring boot\\nHave working experiment and excellent knowledge at software developing using React, HTML, JavaScript\\nGood knowledge about AI (Azure OpenAI and GenAI)\\nGood knowledge about public cloud (Azure, AWS,)\\nDatabase: MariaDB (or MySQL).\\n[Preferred]\\n\\nHaving experiment with Python and Google cloud\""
      ]
     },
     "execution_count": 38,
     "metadata": {},
     "output_type": "execute_result"
    }
   ],
   "source": [
    "JOB_DESCRIPTION = \"\"\"Mô tả công việc\n",
    "LG CNS is looking for full stack developers for cloud domain project\n",
    "\n",
    "Develop software/web applicant\n",
    "Business Analyst\n",
    "Cooperate between HQ and VNB\n",
    "\n",
    "Yêu cầu ứng viên\n",
    "[Required]\n",
    "\n",
    "Bachelor's degree of Information Technology or higher\n",
    "Have working experiment and excellent knowledge at software developing using Java, Spring boot\n",
    "Have working experiment and excellent knowledge at software developing using React, HTML, JavaScript\n",
    "Good knowledge about AI (Azure OpenAI and GenAI)\n",
    "Good knowledge about public cloud (Azure, AWS,)\n",
    "Database: MariaDB (or MySQL).\n",
    "[Preferred]\n",
    "\n",
    "Having experiment with Python and Google cloud\"\"\"\n",
    "\n",
    "# extractJD(JOB_DESCRIPTION)\n",
    "JOB_DESCRIPTION"
   ]
  },
  {
   "cell_type": "code",
   "execution_count": 42,
   "metadata": {},
   "outputs": [],
   "source": [
    "class NextAction(str, Enum):\n",
    "    continueOnSameTopic = \"Continue on the same topic\"\n",
    "    changeTopic = \"Switch to a new topic\"\n",
    "    startCodingInterview = \"Switch to coding interview\"\n",
    "\n",
    "\n",
    "class AnalysisAndNextActionOutput(BaseModel):\n",
    "    analysis: str\n",
    "    score: float = Field(ge=0, le=10)\n",
    "    nextAction: NextAction\n",
    "    nextQuestion: str\n",
    "\n",
    "\n",
    "class AnalysisAndNextActionInput(BaseModel):\n",
    "    job_description: str\n",
    "    conversation: list[dict[str, str]]\n",
    "\n",
    "\n",
    "ANALYSIS_AND_NEXT_ACTION_SYSTEM_PROMPT = \"\"\"You are a highly experienced senior developer participating in technical interviews. Your goal is to assist the human interviewer in evaluating candidates. You will be provided with the job description for the role and the ongoing conversation between the interviewer and the candidate. After each candidate response, you need to analyze the answer, provide a score reflecting your assessment, and suggest the next action for the human interviewer. Your analysis should consider the key areas of the interview: Technical Skills, Problem-Solving, Experience, Teamwork and Collaboration, and Adaptability, as defined in the job description. Be objective and justify your score, next action recommendation based on the provided information and next question reccommendation for the interviewer to ask next. This question should be short, focused, and aimed at further exploring relevant areas or addressing any weaknesses identified in the analysis. Focus on the relevance of the candidate's answer to the job requirements and the overall quality of their response. If the candidate is asked a direct technical question, assess their technical accuracy and depth of understanding. For problem-solving scenarios, analyze their approach, clarity of thought, and consideration of edge cases. When discussing experience, evaluate the alignment of their past roles and responsibilities with the job requirements and their ability to articulate their contributions and learnings. For teamwork questions, assess their understanding of collaborative principles and their ability to work effectively in a team. For adaptability, consider their openness to learning new technologies and their experience with handling change. Remember that your primary responsibility is to provide insightful and actionable feedback to aid the interview process. Do not engage in conversation with the candidate; your output is solely for the human interviewer's benefit.\n",
    "\n",
    "Input format: \n",
    "{\n",
    "    \"job_description\": \"{{job_description_text}}\",\n",
    "    \"conversation\": [\n",
    "        {\"interviewer\": \"{{interviewer_question}}\"},\n",
    "        {\"candidate\": \"{{candidate_answer}}\"}\n",
    "        // ... more turns of conversation\n",
    "    ]\n",
    "}\n",
    "Output format: \n",
    "{\n",
    "    \"analysis\": \"Detailed analysis of the candidate's answer, referencing the evaluation areas.\",\n",
    "    \"score\": \"A float between 0.0 and 10.0, where 0.0 is completely inadequate and 10.0 is exceptional.\",\n",
    "    \"nextAction\": \"One of: 'Continue on the same topic', 'Switch to a new topic', 'Switch to coding interview'\",\n",
    "    \"nextQuestion\": \"A recommended question for the interviewer to ask next.\"\n",
    "}\n",
    "Analysis Guidelines:\n",
    "1. Analyze the candidate's response in the context of the job description.\n",
    "2. Justify your score by highlighting specific strengths and weaknesses in the candidate's answer.\n",
    "3. Recommend the next action based on the information gained from the candidate's response and the overall interview plan.\n",
    "4. If the candidate's answer is incomplete or unclear, suggest continuing on the same topic to probe further.\n",
    "5. If the candidate has adequately addressed the current topic, suggest switching to a new topic to cover other evaluation areas.\n",
    "6. If the candidate has demonstrated sufficient technical aptitude and problem-solving skills, suggest switching to a coding interview to assess their practical coding abilities. When switch to a coding interview, you should provide the interviewer a coding problem\n",
    "\n",
    "Additional Note:\n",
    "1. Consider the flow of the conversation and the conversation length when suggesting the next action.\n",
    "2. Be mindful of the seniority level of the role when evaluating the candidate's responses.\n",
    "3. Ensure your analysis and recommendations are objective and free from personal biases.\n",
    "4. Coding interview should be the last thing in the interview process.\n",
    "5. You should only ask one next question.\n",
    "6. Your analysis and next question must be in the same language as the provided conversation\"\"\"\n",
    "\n",
    "\n",
    "def getAnalysisAndNextAction(jd: str, history: list[tuple[str, str]]):\n",
    "    if (\n",
    "        not hasattr(getAnalysisAndNextAction, \"model\")\n",
    "        or getAnalysisAndNextAction.model is None\n",
    "    ):\n",
    "        getAnalysisAndNextAction.model = genai.GenerativeModel(\n",
    "            system_instruction=ANALYSIS_AND_NEXT_ACTION_SYSTEM_PROMPT\n",
    "        )\n",
    "    conv = []\n",
    "    for question, answer in history:\n",
    "        conv.append({\"interviewer\": question})\n",
    "        conv.append({\"candidate\": answer})\n",
    "    model_input = AnalysisAndNextActionInput(\n",
    "        job_description=jd, conversation=conv\n",
    "    ).model_dump_json()\n",
    "    model_output = getAnalysisAndNextAction.model.generate_content(\n",
    "        model_input,\n",
    "        generation_config={\n",
    "            \"response_mime_type\": \"application/json\",\n",
    "            \"temperature\": 0.5,\n",
    "        },\n",
    "    ).text\n",
    "    prompt_logger.debug({\"input\": model_input, \"output\": model_output})\n",
    "    return AnalysisAndNextActionOutput.model_validate_json(model_output)\n",
    "\n",
    "\n",
    "# Reset function attr on rerun\n",
    "getAnalysisAndNextAction.model = None"
   ]
  },
  {
   "cell_type": "code",
   "execution_count": 40,
   "metadata": {},
   "outputs": [
    {
     "data": {
      "text/plain": [
       "AnalysisAndNextActionOutput(analysis='slfkdjsaf', score=9.5, nextAction=<NextAction.continueOnSameTopic: 'Continue on the same topic'>, nextQuestion='sldfkjsaldf')"
      ]
     },
     "execution_count": 40,
     "metadata": {},
     "output_type": "execute_result"
    }
   ],
   "source": [
    "AnalysisAndNextActionOutput.model_validate_json('{\"analysis\": \"slfkdjsaf\", \"score\": 9.5, \"nextAction\": \"Continue on the same topic\", \"nextQuestion\": \"sldfkjsaldf\"}')"
   ]
  },
  {
   "cell_type": "code",
   "execution_count": 41,
   "metadata": {},
   "outputs": [
    {
     "name": "stderr",
     "output_type": "stream",
     "text": [
      "DEBUG:prompt_logging:{'input': '{\"job_description\":\"Mô tả công việc\\\\nLG CNS is looking for full stack developers for cloud domain project\\\\n\\\\nDevelop software/web applicant\\\\nBusiness Analyst\\\\nCooperate between HQ and VNB\\\\n\\\\nYêu cầu ứng viên\\\\n[Required]\\\\n\\\\nBachelor\\'s degree of Information Technology or higher\\\\nHave working experiment and excellent knowledge at software developing using Java, Spring boot\\\\nHave working experiment and excellent knowledge at software developing using React, HTML, JavaScript\\\\nGood knowledge about AI (Azure OpenAI and GenAI)\\\\nGood knowledge about public cloud (Azure, AWS,)\\\\nDatabase: MariaDB (or MySQL).\\\\n[Preferred]\\\\n\\\\nHaving experiment with Python and Google cloud\",\"conversation\":[{\"interviewer\":\"Trong mô tả công việc, chúng tôi có đề cập đến việc sử dụng Java, Spring Boot, React, HTML, và JavaScript. Bạn có thể chia sẻ kinh nghiệm của mình với các công nghệ này được không? Cụ thể, bạn đã sử dụng chúng trong những dự án nào và vai trò của bạn trong các dự án đó là gì?\"},{\"candidate\":\"Tôi đã có nhiều kinh nghiệm với Java và Spring Boot trong các dự án backend. Với Java, tôi đã phát triển các ứng dụng doanh nghiệp, đặc biệt là các hệ thống quản lý tài chính và thương mại điện tử. Spring Boot là công cụ chính tôi sử dụng để tạo các ứng dụng web dựa trên kiến trúc Microservices. Trong các dự án này, tôi đã thiết kế và triển khai các API RESTful, sử dụng Spring Security để bảo mật, Spring Data JPA để tương tác với cơ sở dữ liệu, và Spring Cloud để triển khai các dịch vụ phân tán. Một trong những dự án đáng chú ý là phát triển một hệ thống quản lý bán hàng với các tính năng như quản lý sản phẩm, đơn hàng và thanh toán trực tuyến. Trong các dự án sử dụng Spring Boot, tôi đảm nhận vai trò Backend Developer, nơi tôi thiết kế các API, xử lý logic nghiệp vụ và tối ưu hiệu suất của hệ thống.\"}]}', 'output': '{\"analysis\": \"The candidate demonstrates good experience with Java and Spring Boot, aligning well with the job description\\'s requirements.  They provide specific examples of projects and clearly articulate their roles and responsibilities. The mention of RESTful APIs, Spring Security, Spring Data JPA, and Spring Cloud shows a solid understanding of backend development concepts and frameworks. However, the answer lacks details on their experience with frontend technologies (React, HTML, JavaScript) mentioned in the job description.  The response is strong in terms of Technical Skills and Experience, but more information is needed to fully assess their capabilities in all required areas.\", \"score\": 7.5, \"nextAction\": \"Continue on the same topic\", \"nextQuestion\": \"Bạn có thể chia sẻ thêm về kinh nghiệm của mình với React, HTML, và JavaScript không?  Bạn đã sử dụng chúng trong những dự án nào và đóng góp của bạn là gì?\"}'}\n"
     ]
    },
    {
     "data": {
      "text/plain": [
       "{'analysis': \"The candidate demonstrates good experience with Java and Spring Boot, aligning well with the job description's requirements.  They provide specific examples of projects and clearly articulate their roles and responsibilities. The mention of RESTful APIs, Spring Security, Spring Data JPA, and Spring Cloud shows a solid understanding of backend development concepts and frameworks. However, the answer lacks details on their experience with frontend technologies (React, HTML, JavaScript) mentioned in the job description.  The response is strong in terms of Technical Skills and Experience, but more information is needed to fully assess their capabilities in all required areas.\",\n",
       " 'score': 7.5,\n",
       " 'nextAction': <NextAction.continueOnSameTopic: 'Continue on the same topic'>,\n",
       " 'nextQuestion': 'Bạn có thể chia sẻ thêm về kinh nghiệm của mình với React, HTML, và JavaScript không?  Bạn đã sử dụng chúng trong những dự án nào và đóng góp của bạn là gì?'}"
      ]
     },
     "execution_count": 41,
     "metadata": {},
     "output_type": "execute_result"
    }
   ],
   "source": [
    "getAnalysisAndNextAction(\n",
    "    jd=JOB_DESCRIPTION,\n",
    "    history=[\n",
    "        (\"Trong mô tả công việc, chúng tôi có đề cập đến việc sử dụng Java, Spring Boot, React, HTML, và JavaScript. Bạn có thể chia sẻ kinh nghiệm của mình với các công nghệ này được không? Cụ thể, bạn đã sử dụng chúng trong những dự án nào và vai trò của bạn trong các dự án đó là gì?\",\n",
    "        \"Tôi đã có nhiều kinh nghiệm với Java và Spring Boot trong các dự án backend. Với Java, tôi đã phát triển các ứng dụng doanh nghiệp, đặc biệt là các hệ thống quản lý tài chính và thương mại điện tử. Spring Boot là công cụ chính tôi sử dụng để tạo các ứng dụng web dựa trên kiến trúc Microservices. Trong các dự án này, tôi đã thiết kế và triển khai các API RESTful, sử dụng Spring Security để bảo mật, Spring Data JPA để tương tác với cơ sở dữ liệu, và Spring Cloud để triển khai các dịch vụ phân tán. Một trong những dự án đáng chú ý là phát triển một hệ thống quản lý bán hàng với các tính năng như quản lý sản phẩm, đơn hàng và thanh toán trực tuyến. Trong các dự án sử dụng Spring Boot, tôi đảm nhận vai trò Backend Developer, nơi tôi thiết kế các API, xử lý logic nghiệp vụ và tối ưu hiệu suất của hệ thống.\"),\n",
    "    ],\n",
    ").model_dump(mode='python')"
   ]
  },
  {
   "cell_type": "code",
   "execution_count": 42,
   "metadata": {},
   "outputs": [
    {
     "name": "stderr",
     "output_type": "stream",
     "text": [
      "DEBUG:prompt_logging:{'input': '{\"job_description\":\"Mô tả công việc\\\\nLG CNS is looking for full stack developers for cloud domain project\\\\n\\\\nDevelop software/web applicant\\\\nBusiness Analyst\\\\nCooperate between HQ and VNB\\\\n\\\\nYêu cầu ứng viên\\\\n[Required]\\\\n\\\\nBachelor\\'s degree of Information Technology or higher\\\\nHave working experiment and excellent knowledge at software developing using Java, Spring boot\\\\nHave working experiment and excellent knowledge at software developing using React, HTML, JavaScript\\\\nGood knowledge about AI (Azure OpenAI and GenAI)\\\\nGood knowledge about public cloud (Azure, AWS,)\\\\nDatabase: MariaDB (or MySQL).\\\\n[Preferred]\\\\n\\\\nHaving experiment with Python and Google cloud\",\"conversation\":[{\"interviewer\":\"Trong mô tả công việc, chúng tôi có đề cập đến việc sử dụng Java, Spring Boot, React, HTML, và JavaScript. Bạn có thể chia sẻ kinh nghiệm của mình với các công nghệ này được không? Cụ thể, bạn đã sử dụng chúng trong những dự án nào và vai trò của bạn trong các dự án đó là gì?\"},{\"candidate\":\"Tôi đã có nhiều kinh nghiệm với Java và Spring Boot trong các dự án backend. Với Java, tôi đã phát triển các ứng dụng doanh nghiệp, đặc biệt là các hệ thống quản lý tài chính và thương mại điện tử. Spring Boot là công cụ chính tôi sử dụng để tạo các ứng dụng web dựa trên kiến trúc Microservices. Trong các dự án này, tôi đã thiết kế và triển khai các API RESTful, sử dụng Spring Security để bảo mật, Spring Data JPA để tương tác với cơ sở dữ liệu, và Spring Cloud để triển khai các dịch vụ phân tán. Một trong những dự án đáng chú ý là phát triển một hệ thống quản lý bán hàng với các tính năng như quản lý sản phẩm, đơn hàng và thanh toán trực tuyến. Trong các dự án sử dụng Spring Boot, tôi đảm nhận vai trò Backend Developer, nơi tôi thiết kế các API, xử lý logic nghiệp vụ và tối ưu hiệu suất của hệ thống.\"},{\"interviewer\":\"Tiếp theo, về phía frontend, bạn có thể chia sẻ thêm về kinh nghiệm của mình với React, HTML và JavaScript được không? Bạn đã sử dụng chúng trong những dự án nào và bạn có thể mô tả cụ thể hơn về vai trò của mình trong các dự án đó?\"},{\"candidate\":\"Tôi có kinh nghiệm mạnh mẽ trong việc phát triển frontend sử dụng React và JavaScript. Tôi đã tham gia vào việc xây dựng giao diện người dùng cho các ứng dụng web động với React, kết hợp với Redux để quản lý trạng thái toàn cục của ứng dụng. Tôi đã sử dụng HTML để tạo cấu trúc trang web và CSS/SCSS để định dạng giao diện. Bên cạnh đó, JavaScript được sử dụng để xử lý các sự kiện người dùng và tương tác với API từ backend, giúp tạo ra các trải nghiệm người dùng mượt mà. Một dự án tiêu biểu là phát triển một hệ thống quản lý khách hàng (CRM) với các tính năng như tìm kiếm nâng cao, biểu đồ thống kê và thông báo. Trong các dự án này, tôi đóng vai trò là Frontend Developer. Công việc của tôi bao gồm việc xây dựng các component React, xử lý state management, và đảm bảo các tính năng hoạt động trơn tru khi người dùng tương tác với giao diện.\"}]}', 'output': '{\"analysis\": \"The candidate demonstrates a good understanding and experience with Java, Spring Boot, React, HTML, and JavaScript.  Their descriptions of projects and roles are detailed and specific, showcasing their ability to articulate their contributions.  The mention of specific frameworks and technologies like Spring Security, Spring Data JPA, Spring Cloud, and Redux indicates a solid grasp of backend and frontend development principles.  However, the responses lack quantifiable achievements or metrics.  For example, mentioning specific performance improvements or user engagement metrics would strengthen the answers.  The candidate\\'s focus on technical details is appropriate but could benefit from a higher-level perspective on project goals and business impact. The answers directly address the interviewer\\'s questions and provide relevant information. While the candidate shows proficiency, there\\'s limited information on problem-solving skills, teamwork, and adaptability. \", \"score\": 7.5, \"nextAction\": \"Continue on the same topic\", \"nextQuestion\": \"Có thể cho tôi biết thêm về những thách thức bạn đã gặp phải trong các dự án này và cách bạn đã giải quyết chúng không?\"}'}\n"
     ]
    },
    {
     "data": {
      "text/plain": [
       "{'analysis': \"The candidate demonstrates a good understanding and experience with Java, Spring Boot, React, HTML, and JavaScript.  Their descriptions of projects and roles are detailed and specific, showcasing their ability to articulate their contributions.  The mention of specific frameworks and technologies like Spring Security, Spring Data JPA, Spring Cloud, and Redux indicates a solid grasp of backend and frontend development principles.  However, the responses lack quantifiable achievements or metrics.  For example, mentioning specific performance improvements or user engagement metrics would strengthen the answers.  The candidate's focus on technical details is appropriate but could benefit from a higher-level perspective on project goals and business impact. The answers directly address the interviewer's questions and provide relevant information. While the candidate shows proficiency, there's limited information on problem-solving skills, teamwork, and adaptability. \",\n",
       " 'score': 7.5,\n",
       " 'nextAction': <NextAction.continueOnSameTopic: 'Continue on the same topic'>,\n",
       " 'nextQuestion': 'Có thể cho tôi biết thêm về những thách thức bạn đã gặp phải trong các dự án này và cách bạn đã giải quyết chúng không?'}"
      ]
     },
     "execution_count": 42,
     "metadata": {},
     "output_type": "execute_result"
    }
   ],
   "source": [
    "getAnalysisAndNextAction(\n",
    "    jd=JOB_DESCRIPTION,\n",
    "    history=[\n",
    "        (\"\",\n",
    "        \"Tôi đã có nhiều kinh nghiệm với Java và Spring Boot trong các dự án backend. Với Java, tôi đã phát triển các ứng dụng doanh nghiệp, đặc biệt là các hệ thống quản lý tài chính và thương mại điện tử. Spring Boot là công cụ chính tôi sử dụng để tạo các ứng dụng web dựa trên kiến trúc Microservices. Trong các dự án này, tôi đã thiết kế và triển khai các API RESTful, sử dụng Spring Security để bảo mật, Spring Data JPA để tương tác với cơ sở dữ liệu, và Spring Cloud để triển khai các dịch vụ phân tán. Một trong những dự án đáng chú ý là phát triển một hệ thống quản lý bán hàng với các tính năng như quản lý sản phẩm, đơn hàng và thanh toán trực tuyến. Trong các dự án sử dụng Spring Boot, tôi đảm nhận vai trò Backend Developer, nơi tôi thiết kế các API, xử lý logic nghiệp vụ và tối ưu hiệu suất của hệ thống.\"),\n",
    "        (\"Tiếp theo, về phía frontend, bạn có thể chia sẻ thêm về kinh nghiệm của mình với React, HTML và JavaScript được không? Bạn đã sử dụng chúng trong những dự án nào và bạn có thể mô tả cụ thể hơn về vai trò của mình trong các dự án đó?\", \"Tôi có kinh nghiệm mạnh mẽ trong việc phát triển frontend sử dụng React và JavaScript. Tôi đã tham gia vào việc xây dựng giao diện người dùng cho các ứng dụng web động với React, kết hợp với Redux để quản lý trạng thái toàn cục của ứng dụng. Tôi đã sử dụng HTML để tạo cấu trúc trang web và CSS/SCSS để định dạng giao diện. Bên cạnh đó, JavaScript được sử dụng để xử lý các sự kiện người dùng và tương tác với API từ backend, giúp tạo ra các trải nghiệm người dùng mượt mà. Một dự án tiêu biểu là phát triển một hệ thống quản lý khách hàng (CRM) với các tính năng như tìm kiếm nâng cao, biểu đồ thống kê và thông báo. Trong các dự án này, tôi đóng vai trò là Frontend Developer. Công việc của tôi bao gồm việc xây dựng các component React, xử lý state management, và đảm bảo các tính năng hoạt động trơn tru khi người dùng tương tác với giao diện.\")\n",
    "    ],\n",
    ").model_dump(mode='python')"
   ]
  },
  {
   "cell_type": "code",
   "execution_count": 44,
   "metadata": {},
   "outputs": [
    {
     "name": "stdout",
     "output_type": "stream",
     "text": [
      "[function_declarations {\n",
      "  name: \"getStr\"\n",
      "  description: \"Get next question from a human expert. You should always call this before asking anything related to the interview.\\nReturns:\\n    A string Next question\"\n",
      "  parameters {\n",
      "    type_: OBJECT\n",
      "    properties {\n",
      "      key: \"s\"\n",
      "      value {\n",
      "        type_: STRING\n",
      "      }\n",
      "    }\n",
      "    required: \"s\"\n",
      "  }\n",
      "}\n",
      "]\n"
     ]
    }
   ],
   "source": [
    "from functools import partialmethod\n",
    "\n",
    "def outer(inner):\n",
    "    return inner(\"sdfj\")\n",
    "\n",
    "\n",
    "class Test():\n",
    "    def __init__(self):\n",
    "        self.end = \"End\"\n",
    "        self.start = \"Start\"\n",
    "        self.ai = genai.GenerativeModel(tools=[self.getStr])\n",
    "        print(self.ai._tools.to_proto())\n",
    "\n",
    "    def getStr(self, s: str) -> AnalysisAndNextActionOutput:\n",
    "        \"\"\"Get next question from a human expert. You should always call this before asking anything related to the interview.\n",
    "Returns:\n",
    "    Next question\"\"\"\n",
    "        return AnalysisAndNextActionOutput(analysis=\"salkfdjslaf\", score=4, nextAction=NextAction.continueOnSameTopic, nextQuestion=\"sdklfjsl\")\n",
    "    \n",
    "    fun = partialmethod(getStr, \"HELLO \")\n",
    "\n",
    "    def gg(self):\n",
    "        return outer(self.getStr)\n",
    "\n",
    "tmp = Test()"
   ]
  }
 ],
 "metadata": {
  "kernelspec": {
   "display_name": ".venv",
   "language": "python",
   "name": "python3"
  },
  "language_info": {
   "codemirror_mode": {
    "name": "ipython",
    "version": 3
   },
   "file_extension": ".py",
   "mimetype": "text/x-python",
   "name": "python",
   "nbconvert_exporter": "python",
   "pygments_lexer": "ipython3",
   "version": "3.10.15"
  }
 },
 "nbformat": 4,
 "nbformat_minor": 2
}
