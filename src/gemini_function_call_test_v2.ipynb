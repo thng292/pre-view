{
 "cells": [
  {
   "cell_type": "code",
   "execution_count": 1,
   "metadata": {},
   "outputs": [],
   "source": [
    "JD = \"\"\"\n",
    "Mô tả công việc\n",
    "LG CNS is looking for full stack developers for cloud domain project\n",
    "\n",
    "Develop software/web applicant\n",
    "Business Analyst\n",
    "Cooperate between HQ and VNB\n",
    "\n",
    "Yêu cầu ứng viên\n",
    "[Required]\n",
    "\n",
    "Bachelor's degree of Information Technology or higher\n",
    "Have working experiment and excellent knowledge at software developing using Java, Spring boot\n",
    "Have working experiment and excellent knowledge at software developing using React, HTML, JavaScript\n",
    "Good knowledge about AI (Azure OpenAI and GenAI)\n",
    "Good knowledge about public cloud (Azure, AWS,)\n",
    "Database: MariaDB (or MySQL).\n",
    "[Preferred]\n",
    "\n",
    "Having experiment with Python and Google cloud\n",
    "\"\"\""
   ]
  },
  {
   "cell_type": "code",
   "execution_count": 2,
   "metadata": {},
   "outputs": [],
   "source": [
    "CHAT_SYSTEM_INSTRUCTION = f\"\"\"You are an interviewer for job with description:\n",
    "{JD}\n",
    "\n",
    "You are interviewing interviewee. You will communicate directly with interviewee.\n",
    "You will use function call get_qestion to get theory interview question to ask interviewee \n",
    "then receive answer from interviewee, you analyitc the answer, then use function call result to send your evaluate, score of the answer (a number from 0 to 10); then get instruction of next step you will do from return of function, you must do following instruction.\n",
    "\"\"\""
   ]
  },
  {
   "cell_type": "code",
   "execution_count": 3,
   "metadata": {},
   "outputs": [],
   "source": [
    "QUESTION_GENERATE_INSTRUCTION = f\"\"\"You are an interviewer for job with description:\n",
    "{JD}\n",
    "\n",
    "Generate suitable question base on job description and chat history.\n",
    "output only 1 question. output question content only without any explain.\n",
    "\"\"\""
   ]
  },
  {
   "cell_type": "code",
   "execution_count": 4,
   "metadata": {},
   "outputs": [],
   "source": [
    "CODE_QUESTION_GENERATE_INSTRUCTION = f\"\"\"You are an interviewer for job with description:\n",
    "{JD}\n",
    "\n",
    "Generate suitable code question base on job description and chat history.\n",
    "must more detail as possible, with detail description and with at least 5 testcase (input/output sample pair), \n",
    "without solving question, in hard medium level\n",
    "output only 1 question. output question content only without any explain.\n",
    "\"\"\""
   ]
  },
  {
   "cell_type": "code",
   "execution_count": 5,
   "metadata": {},
   "outputs": [],
   "source": [
    "EVALUATE_INSTRUCTION = f\"\"\"You are an interviewer for job with description:\n",
    "{JD}\n",
    "\n",
    "I will give you chat history. \n",
    "Evaluate interview progress base on job description and chat history.\n",
    "Make sure cover all topic of job description.\n",
    "Change to next topic if you evaluate interviewee fully answer question or interviewee wrong answer question.\n",
    "Give choose suitable action following to do: change other topic, following current topic, fail interview, pass interview.\n",
    "Output progress as a number from 0 to 100 represent progress of interview.\n",
    "Output total score of interviewee as a number from 0 to 100.\n",
    "Output analysis why choose the action\n",
    "Only output action i listed.\n",
    "Only output result json, mustn't output markdown\n",
    "Output json in format: progress: \"\", action: \"\", score: \"\", analysis: \"\"\n",
    "\"\"\""
   ]
  },
  {
   "cell_type": "code",
   "execution_count": 6,
   "metadata": {},
   "outputs": [
    {
     "name": "stderr",
     "output_type": "stream",
     "text": [
      "e:\\School\\HK1 2024-2025\\ML\\Project\\pre-view\\.venv\\lib\\site-packages\\tqdm\\auto.py:21: TqdmWarning: IProgress not found. Please update jupyter and ipywidgets. See https://ipywidgets.readthedocs.io/en/stable/user_install.html\n",
      "  from .autonotebook import tqdm as notebook_tqdm\n"
     ]
    }
   ],
   "source": [
    "import os, dotenv\n",
    "import google.generativeai as genai\n",
    "dotenv.load_dotenv(\".env\")\n",
    "genai.configure(api_key=os.getenv(\"GEMINI_API_KEY\"))"
   ]
  },
  {
   "cell_type": "code",
   "execution_count": 7,
   "metadata": {},
   "outputs": [],
   "source": [
    "def generate_qestion(chatHistory, action):\n",
    "    model = genai.GenerativeModel(\"gemini-1.5-flash\", system_instruction=QUESTION_GENERATE_INSTRUCTION)\n",
    "    response = model.generate_content(f\"Generate {action} question base on job description and chat history: {chatHistory}\")\n",
    "    return response.text"
   ]
  },
  {
   "cell_type": "code",
   "execution_count": 8,
   "metadata": {},
   "outputs": [],
   "source": [
    "def generate_code_qestion(chatHistory):\n",
    "    model = genai.GenerativeModel(\"gemini-1.5-flash\", system_instruction=CODE_QUESTION_GENERATE_INSTRUCTION)\n",
    "    response = model.generate_content(f\"Generate code question base on job description and chat history: {chatHistory}\")\n",
    "    return response.text"
   ]
  },
  {
   "cell_type": "code",
   "execution_count": 9,
   "metadata": {},
   "outputs": [],
   "source": [
    "import json\n",
    "from pydantic import BaseModel\n",
    "from enum import Enum\n",
    "from google.generativeai import GenerationConfig\n",
    "\n",
    "Retry = 5\n",
    "\n",
    "class ActionTag(str, Enum):\n",
    "    OtherTopic = \"change other topic\"\n",
    "    CurrentTopic = \"following current topic\"\n",
    "    PassInterview = \"pass interview\"\n",
    "    FailInterview = \"fail interview\"\n",
    "\n",
    "class EvaluationExtractedOutput(BaseModel):\n",
    "    analysis: str\n",
    "    action: ActionTag\n",
    "    score: float\n",
    "    progress: float\n",
    "\n",
    "def generate_evaluate(chatHistory: str, qestion: str, answer: str):\n",
    "    for i in range(Retry):\n",
    "        try:\n",
    "            model = genai.GenerativeModel(\"gemini-1.5-flash\", system_instruction=EVALUATE_INSTRUCTION,\n",
    "                                    generation_config=GenerationConfig(\n",
    "                                        temperature=(i + 1) * 0.4, \n",
    "                                        response_schema=EvaluationExtractedOutput,\n",
    "                                        response_mime_type=\"application/json\"))\n",
    "            response = model.generate_content(f\"Evaluate interview progress base on job description and chat history: {chatHistory}\\n Interviewer: {qestion}\\n Interviewee: {answer}\")\n",
    "            #print(response.text)\n",
    "            return EvaluationExtractedOutput(**json.loads(response.text))\n",
    "        except Exception as e:\n",
    "            print(e)\n",
    "            pass\n",
    "    return EvaluationExtractedOutput(action=ActionTag.CurrentTopic, analysis=\"\", score=50, progress=0)"
   ]
  },
  {
   "cell_type": "code",
   "execution_count": 10,
   "metadata": {},
   "outputs": [],
   "source": [
    "import numpy as np\n",
    "import google.generativeai as genai\n",
    "\n",
    "\n",
    "i = 0\n",
    "chatHistory = \"\"\n",
    "currentQuestion = \"\"\n",
    "currentAnswer = \"\"\n",
    "nextAction = ActionTag.CurrentTopic\n",
    "\n",
    "def result(evaluate: str, score: float):\n",
    "    print(\"- review:\", evaluate)\n",
    "    score = np.clip(score, 0, 10)\n",
    "    print(\"- score:\", score)\n",
    "    global i\n",
    "    global currentQuestion\n",
    "    global currentAnswer\n",
    "    global chatHistory\n",
    "    global nextAction\n",
    "    i += 1\n",
    "    evl = generate_evaluate(chatHistory, currentQuestion, currentAnswer)\n",
    "    print(evl)\n",
    "    nextAction = evl.action\n",
    "    \"\"\"Send evaluate and score about the answer provided by interviewee and get instruction of next step.\n",
    "    Args: \n",
    "        evaluate: your evaluate about the answer provided by interviewee.\n",
    "        score: floating point number from 0 to 10 represent your score for the answer provided by interviewee.\n",
    "    Returns: \n",
    "        A string that is next step you will do.\n",
    "    \"\"\"\n",
    "    return \"\"\"ask interviewee next theory question. Don't stop interview, continue interview progress. \n",
    "                Use function call get_qestion to get theory interview question to ask interviewee,\n",
    "                then receive answer from interviewee, \n",
    "                you analyitc the answer then use function call result to send your evaluate, score of the answer (a number from 0 to 10), then get instruction of next step you will do from return of function. you must do following instruction.\"\"\" if evl.progress < 100 and evl.action != ActionTag.FailInterview and evl.action != ActionTag.PassInterview else \"stop interview\"\n",
    "\n",
    "\n",
    "def get_qestion():\n",
    "    global i\n",
    "    global chatHistory\n",
    "    global currentQuestion\n",
    "    global nextAction\n",
    "    currentQuestion = generate_qestion(chatHistory, nextAction.name) \n",
    "    #print(i)\n",
    "    #print(chatHistory)\n",
    "    \"\"\"Get Qestion for interview\n",
    "\n",
    "    Args:\n",
    "        \n",
    "    Returns:\n",
    "        A string that is a qestion you will ask interviewee.\n",
    "    \"\"\"\n",
    "    return currentQuestion\n",
    "\n",
    "import time\n",
    "class ChatSession:\n",
    "    def __init__(self):\n",
    "        self.model = genai.GenerativeModel(model_name='gemini-1.5-flash',\n",
    "                                    system_instruction=CHAT_SYSTEM_INSTRUCTION,\n",
    "                                    tools=[get_qestion, result])\n",
    "        self.chat = self.model.start_chat(enable_automatic_function_calling=True)\n",
    "        self.last_send_time = time.time()\n",
    "\n",
    "    def sendUserMessage(self, data: str):\n",
    "        global currentAnswer\n",
    "        global chatHistory\n",
    "        currentAnswer = data\n",
    "        try:\n",
    "            time.sleep(time.time() - self.last_send_time - 60/15)\n",
    "        except:\n",
    "            pass\n",
    "        response = self.chat.send_message(data)\n",
    "        self.last_send_time = time.time()\n",
    "        chatHistory += \"Interviewee: \" + data + \"\\n\"\n",
    "        chatHistory += \"Interviewer: \" + response.candidates[0].content.parts[0].text + \"\\n\"\n",
    "        return response.candidates[0].content.parts[0].text"
   ]
  },
  {
   "cell_type": "code",
   "execution_count": 11,
   "metadata": {},
   "outputs": [
    {
     "data": {
      "text/plain": [
       "\"Hello!  Let's start the interview.  I'll begin by asking you some theoretical questions to assess your understanding of the technologies mentioned in the job description.\\n\""
      ]
     },
     "execution_count": 11,
     "metadata": {},
     "output_type": "execute_result"
    }
   ],
   "source": [
    "chatSession = ChatSession()\n",
    "chatSession.sendUserMessage(\"hello\")"
   ]
  },
  {
   "cell_type": "code",
   "execution_count": 12,
   "metadata": {},
   "outputs": [
    {
     "data": {
      "text/plain": [
       "'Okay, the first question is:  \"Describe your experience using Java, Spring Boot, React, HTML, JavaScript to develop a software application, highlighting the challenges you faced and how you overcame them.\"  Please provide a detailed answer.\\n'"
      ]
     },
     "execution_count": 12,
     "metadata": {},
     "output_type": "execute_result"
    }
   ],
   "source": [
    "chatSession.sendUserMessage(\"ok\")\n"
   ]
  },
  {
   "cell_type": "code",
   "execution_count": 13,
   "metadata": {},
   "outputs": [
    {
     "name": "stdout",
     "output_type": "stream",
     "text": [
      "- review: Good understanding of full-stack development and problem-solving.  The answer clearly articulates challenges and solutions, demonstrating practical experience.\n",
      "- score: 8.0\n",
      "analysis='The interviewee provided a good answer, showcasing experience with Java, Spring Boot, React, HTML, and JavaScript.  The description of challenges and solutions demonstrates problem-solving skills. However, more probing questions are needed to fully assess their depth of knowledge and to cover other aspects of the job description (AI, Cloud, Databases).' action=<ActionTag.CurrentTopic: 'following current topic'> score=75.0 progress=25.0\n"
     ]
    },
    {
     "data": {
      "text/plain": [
       "'Okay, the next question is: \"Describe a project where you integrated AI capabilities (preferably using Azure OpenAI or GenAI) into a web application built using Java, Spring Boot, React, and a MariaDB database, detailing your approach to data management and model deployment on a public cloud platform (Azure or AWS).\"\\n'"
      ]
     },
     "execution_count": 13,
     "metadata": {},
     "output_type": "execute_result"
    }
   ],
   "source": [
    "chatSession.sendUserMessage(\"\"\"I developed an inventory management system using **Java**, **Spring Boot**, **React**, **HTML**, and **JavaScript**. The backend managed product data and user authentication, while the React frontend handled real-time updates and dynamic dashboards.\n",
    "\n",
    "One challenge was ensuring seamless synchronization between the frontend and backend for stock updates. Initial polling methods caused delays and inconsistencies. I resolved this by implementing **WebSocket communication** in Spring Boot, enabling real-time updates in React whenever stock levels changed.\n",
    "\n",
    "Another issue was managing complex forms with dynamic validation on the frontend. I used React’s state management and custom hooks to streamline form handling, improving usability and reducing user errors. This project strengthened my skills in full-stack development and real-time systems.\"\"\")"
   ]
  },
  {
   "cell_type": "code",
   "execution_count": 14,
   "metadata": {},
   "outputs": [
    {
     "name": "stdout",
     "output_type": "stream",
     "text": [
      "- review: Excellent response demonstrating a comprehensive understanding of AI integration, data management, and cloud deployment.  The use of specific technologies and attention to data privacy are strong points.\n",
      "- score: 9.0\n",
      "analysis=\"The interviewee has demonstrated a good understanding and practical experience with Java, Spring Boot, React, HTML, JavaScript, and AI integration using Azure OpenAI.  They provided detailed explanations of their projects, highlighting challenges and solutions.  To ensure a comprehensive evaluation, it's necessary to move on to other topics like database management (MariaDB), public cloud experience (Azure/AWS), and potentially Python/Google Cloud if the candidate has experience in those areas. \" action=<ActionTag.OtherTopic: 'change other topic'> score=85.0 progress=50.0\n"
     ]
    },
    {
     "data": {
      "text/plain": [
       "'Okay, our next question is: \"Describe a situation where you had to collaborate effectively with colleagues or stakeholders from different cultural backgrounds or geographical locations, and how you navigated any communication or collaboration challenges.\"\\n'"
      ]
     },
     "execution_count": 14,
     "metadata": {},
     "output_type": "execute_result"
    }
   ],
   "source": [
    "chatSession.sendUserMessage(\"\"\"In a project where I integrated AI into a customer support platform, I used **Azure OpenAI** to power a chatbot built with **Java**, **Spring Boot**, **React**, and **MariaDB**. The goal was to automate responses to customer queries based on previous interactions and knowledge base articles.\n",
    "\n",
    "For **data management**, I stored user interactions and knowledge base content in **MariaDB**. This allowed the backend to fetch relevant data to enhance AI responses and maintain context. I implemented **Spring Data JPA** to interact with the database efficiently.\n",
    "\n",
    "For **model deployment**, I used **Azure** to host the OpenAI API. The Spring Boot application communicated with the Azure OpenAI model through REST APIs. Data privacy was ensured by sanitizing user inputs before sending them to the AI model. I also set up **Azure Cognitive Services** to handle AI processing, with the application deployed on **Azure App Services** for easy scalability.\n",
    "\n",
    "This integration enhanced the platform's functionality, offering users immediate, AI-powered support while maintaining efficient data storage and management.\"\"\")"
   ]
  },
  {
   "cell_type": "code",
   "execution_count": 15,
   "metadata": {},
   "outputs": [
    {
     "name": "stdout",
     "output_type": "stream",
     "text": [
      "- review: Good answer showcasing awareness of cultural sensitivity and effective use of collaboration tools.  Mentioning specific tools and strategies enhances the response.\n",
      "- score: 7.0\n",
      "analysis='The interviewee has demonstrated a good understanding and practical experience with Java, Spring Boot, React, HTML, JavaScript, AI integration (Azure OpenAI), database management (MariaDB), and cloud platforms (Azure).  The responses are detailed and show problem-solving skills.  However, to fully assess the candidate, we need to explore other aspects of the job description, such as experience with Python and Google Cloud (preferred skills), and delve deeper into the business analysis and cross-cultural collaboration aspects.' action=<ActionTag.OtherTopic: 'change other topic'> score=85.0 progress=60.0\n"
     ]
    },
    {
     "data": {
      "text/plain": [
       "'Okay, the next question is: \"Describe a time you had to make a difficult technical decision with limited information, and how you approached the problem.\"\\n'"
      ]
     },
     "execution_count": 15,
     "metadata": {},
     "output_type": "execute_result"
    }
   ],
   "source": [
    "chatSession.sendUserMessage(\"\"\"In a project to develop a global e-commerce platform, I collaborated with team members from the U.S., India, and Germany. The challenge was coordinating across time zones, and navigating cultural differences in communication styles—some preferred detailed, written documentation, while others leaned towards more direct, brief exchanges.\n",
    "\n",
    "To address this, we used tools like **Slack** for real-time communication and **Jira** for task management. I made sure to schedule regular video calls during overlapping working hours to foster clearer discussions. Additionally, I adapted my communication to accommodate different preferences, providing concise updates for some and detailed reports for others.\n",
    "\n",
    "By being mindful of time zone constraints and cultural differences, we successfully aligned on project goals and delivered the platform on time.\"\"\")"
   ]
  },
  {
   "cell_type": "code",
   "execution_count": 16,
   "metadata": {},
   "outputs": [
    {
     "name": "stdout",
     "output_type": "stream",
     "text": [
      "- review: A solid response demonstrating a pragmatic approach to decision-making under pressure. The emphasis on risk mitigation and continuous monitoring is commendable.\n",
      "- score: 8.0\n",
      "analysis=\"The interviewee has consistently provided detailed and relevant answers, demonstrating a strong understanding of Java, Spring Boot, React, HTML, JavaScript, AI integration (Azure OpenAI), database management (MariaDB), and cloud platforms (Azure).  They have also showcased experience in overcoming technical challenges, collaborating effectively in diverse teams, and making sound technical decisions under pressure.  All required and preferred skills are covered. The interviewee's responses meet the criteria of the job description.\" action=<ActionTag.PassInterview: 'pass interview'> score=95.0 progress=100.0\n"
     ]
    },
    {
     "data": {
      "text/plain": [
       "'Okay, final question: \"Describe a situation where you had to debug a complex issue in a large, distributed system spanning Java, Spring Boot, React, and a MariaDB database, outlining your troubleshooting methodology and the tools you used.\"\\n'"
      ]
     },
     "execution_count": 16,
     "metadata": {},
     "output_type": "execute_result"
    }
   ],
   "source": [
    "chatSession.sendUserMessage(\"\"\"In a project where we were integrating a third-party payment gateway into our e-commerce platform, I faced a difficult decision with limited information on the API's reliability and performance. The documentation was minimal, and there were concerns about how the integration would impact transaction speed and security.\n",
    "\n",
    "To address this, I first conducted a quick prototype to test the API's performance under different loads. I also consulted with colleagues who had experience with similar integrations. Given the risks, I chose to implement the gateway with an initial fallback mechanism, ensuring that if the third-party API failed, users would be redirected to an alternative payment method.\n",
    "\n",
    "This decision allowed us to move forward while mitigating potential risks, and I continuously monitored the integration's performance to make adjustments as needed.\"\"\")"
   ]
  }
 ],
 "metadata": {
  "kernelspec": {
   "display_name": ".venv",
   "language": "python",
   "name": "python3"
  },
  "language_info": {
   "codemirror_mode": {
    "name": "ipython",
    "version": 3
   },
   "file_extension": ".py",
   "mimetype": "text/x-python",
   "name": "python",
   "nbconvert_exporter": "python",
   "pygments_lexer": "ipython3",
   "version": "3.10.6"
  }
 },
 "nbformat": 4,
 "nbformat_minor": 2
}
